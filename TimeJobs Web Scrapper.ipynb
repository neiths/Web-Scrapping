{
 "cells": [
  {
   "cell_type": "code",
   "execution_count": 3,
   "metadata": {},
   "outputs": [],
   "source": [
    "# import libraries\n",
    "from bs4 import BeautifulSoup\n",
    "import requests"
   ]
  },
  {
   "cell_type": "code",
   "execution_count": 12,
   "metadata": {},
   "outputs": [],
   "source": [
    "\n",
    "url = 'https://www.timesjobs.com/candidate/job-search.html?searchType=personalizedSearch&from=submit&txtKeywords=python&txtLocation='\n",
    "html = requests.get(url).text\n",
    "soup = BeautifulSoup(html,'lxml')\n",
    "job = soup.find('li',class_ = 'clearfix job-bx wht-shd-bx')"
   ]
  },
  {
   "cell_type": "markdown",
   "metadata": {},
   "source": [
    "## Got one job in job list"
   ]
  },
  {
   "cell_type": "code",
   "execution_count": 31,
   "metadata": {},
   "outputs": [],
   "source": [
    "company_name = job.find('h3',class_ = 'joblist-comp-name').text.replace(' ','').strip()"
   ]
  },
  {
   "cell_type": "code",
   "execution_count": 33,
   "metadata": {},
   "outputs": [],
   "source": [
    "skills = job.find('span', class_ ='srp-skills').text.replace(' ','').strip()\n"
   ]
  },
  {
   "cell_type": "code",
   "execution_count": 38,
   "metadata": {},
   "outputs": [
    {
     "data": {
      "text/plain": [
       "'Posted few days ago'"
      ]
     },
     "execution_count": 38,
     "metadata": {},
     "output_type": "execute_result"
    }
   ],
   "source": [
    "published_date = job.find('span',class_ = 'sim-posted').span.text"
   ]
  },
  {
   "cell_type": "code",
   "execution_count": 39,
   "metadata": {},
   "outputs": [
    {
     "name": "stdout",
     "output_type": "stream",
     "text": [
      "\n",
      "Comapy Name: PureTechCodexPrivateLimited\n",
      "Required Skills: rest,python,database,django,debugging,mongodb\n",
      "Date: Posted few days ago\n",
      "\n"
     ]
    }
   ],
   "source": [
    "print(f'''\n",
    "Comapy Name: {company_name}\n",
    "Required Skills: {skills}\n",
    "Date: {published_date}\n",
    "''')"
   ]
  },
  {
   "cell_type": "markdown",
   "metadata": {},
   "source": [
    "## Got more than one job "
   ]
  },
  {
   "cell_type": "code",
   "execution_count": 4,
   "metadata": {},
   "outputs": [
    {
     "name": "stdout",
     "output_type": "stream",
     "text": [
      "Put some skills that you are not familiar with\n",
      "Filtering out django\n",
      "Comapy Name: SuryaInformaticsSolutionsPvt.Ltd.\n",
      "Required Skills: python,webtechnologies,linux,mobile,mysql,angularjs,javascript\n",
      "More Info: https://www.timesjobs.com/job-detail/python-surya-informatics-solutions-pvt-ltd-chennai-0-to-3-yrs-jobid-UVlLes58wutzpSvf__PLUS__uAgZw==&source=srp\n",
      "\n",
      "\n",
      "Comapy Name: GEMINISOFTWARESOLUTIONS\n",
      "Required Skills: python,svn,nosql,pythonscripting,git,sqldatabase\n",
      "More Info: https://www.timesjobs.com/job-detail/qa-python-python-sdet-gemini-software-solutions-gurgaon-4-to-7-yrs-jobid-QGkfZ0IeljpzpSvf__PLUS__uAgZw==&source=srp\n",
      "\n",
      "\n",
      "Comapy Name: GeminiSolutions\n",
      "Required Skills: python,mobile,svn,nosql,pythonscripting,git,api,sqldatabase\n",
      "More Info: https://www.timesjobs.com/job-detail/qa-python-python-sdet-gemini-solutions-gurgaon-4-to-7-yrs-jobid-eGMLzwOk2QlzpSvf__PLUS__uAgZw==&source=srp\n",
      "\n",
      "\n",
      "Comapy Name: IvanInfotechPvt.Ltd.\n",
      "Required Skills: rest,python,security,debugging\n",
      "More Info: https://www.timesjobs.com/job-detail/python-developer-ivan-infotech-pvt-ltd-kolkata-2-to-5-yrs-jobid-1h6sLaqbaBZzpSvf__PLUS__uAgZw==&source=srp\n",
      "\n",
      "\n",
      "Comapy Name: AngelandGenie\n",
      "Required Skills: python,docker,messaging,pythonscripting\n",
      "More Info: https://www.timesjobs.com/job-detail/python-developers-angel-and-genie-pune-4-to-7-yrs-jobid-RdTRi__PLUS__3E__SLASH__bpzpSvf__PLUS__uAgZw==&source=srp\n",
      "\n",
      "\n",
      "Comapy Name: BRICKREDTECHNOLOGIESPVT.LTD.\n",
      "Required Skills: imageprocessing,python,opencv\n",
      "More Info: https://www.timesjobs.com/job-detail/python-developer-brickred-technologies-pvt-ltd-0-to-3-yrs-jobid-gFvdvfbX1XdzpSvf__PLUS__uAgZw==&source=srp\n",
      "\n",
      "\n",
      "Comapy Name: BRICKREDTECHNOLOGIESPVT.LTD.\n",
      "Required Skills: imageprocessing,python,opencv\n",
      "More Info: https://www.timesjobs.com/job-detail/python-developer-brickred-technologies-pvt-ltd-0-to-3-yrs-jobid-p9__SLASH__whk__PLUS____PLUS__Ie1zpSvf__PLUS__uAgZw==&source=srp\n",
      "\n",
      "\n",
      "Comapy Name: BRICKREDTECHNOLOGIESPVT.LTD.\n",
      "Required Skills: imageprocessing,python,opencv\n",
      "More Info: https://www.timesjobs.com/job-detail/python-developer-brickred-technologies-pvt-ltd-0-to-3-yrs-jobid-LHhOOHnAobhzpSvf__PLUS__uAgZw==&source=srp\n",
      "\n",
      "\n",
      "Comapy Name: PerfiosSoftwareSolutionsPvt.Ltd.\n",
      "Required Skills: python,java,scala\n",
      "More Info: https://www.timesjobs.com/job-detail/python-developer-perfios-software-solutions-pvt-ltd-bengaluru-bangalore-5-to-8-yrs-jobid-vxzXapFfNqVzpSvf__PLUS__uAgZw==&source=srp\n",
      "\n",
      "\n",
      "Comapy Name: JobsLoConsultants\n",
      "Required Skills: python,linux,windows,sql\n",
      "More Info: https://www.timesjobs.com/job-detail/python-developer-jobslo-consultants-indore-2-to-3-yrs-jobid-XP1detWpoa5zpSvf__PLUS__uAgZw==&source=srp\n",
      "\n",
      "\n",
      "Comapy Name: eastindiasecuritiesltd.\n",
      "Required Skills: python,hadoop,machinelearning\n",
      "More Info: https://www.timesjobs.com/job-detail/python-engineer-east-india-securities-ltd-kolkata-2-to-5-yrs-jobid-KEkE19WqPbFzpSvf__PLUS__uAgZw==&source=srp\n",
      "\n",
      "\n",
      "Comapy Name: TandAHRSolutions\n",
      "Required Skills: Python,Django,Flask\n",
      "More Info: https://www.timesjobs.com/job-detail/python-developer-tanda-hr-solutions-mohali-chandigarh-3-to-6-yrs-jobid-hyDozRehVidzpSvf__PLUS__uAgZw==&source=srp\n",
      "\n",
      "\n",
      "Comapy Name: APPLYCUPHIRINGSOLUTIONSLLP\n",
      "Required Skills: python,Django,ObjectRelationalMapper\n",
      "More Info: https://www.timesjobs.com/job-detail/python-developer-applycup-hiring-solutions-llp-surat-3-to-5-yrs-jobid-uj9JLhqjw6dzpSvf__PLUS__uAgZw==&source=srp\n",
      "\n",
      "\n"
     ]
    }
   ],
   "source": [
    "print('Put some skills that you are not familiar with')\n",
    "unfamiliar_skill = input('>')\n",
    "print(f'Filtering out {unfamiliar_skill}')\n",
    "\n",
    "url = 'https://www.timesjobs.com/candidate/job-search.html?searchType=personalizedSearch&from=submit&txtKeywords=python&txtLocation='\n",
    "html = requests.get(url).text\n",
    "soup = BeautifulSoup(html,'lxml')\n",
    "jobs = soup.find_all('li',class_ = 'clearfix job-bx wht-shd-bx')\n",
    "\n",
    "for job in jobs:\n",
    "    published_date = job.find('span',class_ = 'sim-posted').span.text\n",
    "    if 'few' in published_date:\n",
    "        company_name = job.find('h3',class_ = 'joblist-comp-name').text.replace(' ','').strip()\n",
    "        skills = job.find('span', class_ ='srp-skills').text.replace(' ','').strip()\n",
    "        more_info = job.header.h2.a['href']\n",
    "        if unfamiliar_skill not in skills:\n",
    "            print(f'Comapy Name: {company_name}')\n",
    "            print(f'Required Skills: {skills}')\n",
    "            print(f'More Info: {more_info}')\n",
    "            print('\\n')"
   ]
  },
  {
   "cell_type": "code",
   "execution_count": 8,
   "metadata": {},
   "outputs": [],
   "source": [
    "import time"
   ]
  },
  {
   "cell_type": "markdown",
   "metadata": {},
   "source": [
    "## automatic program to scrap Web every 10 minutes"
   ]
  },
  {
   "cell_type": "code",
   "execution_count": null,
   "metadata": {},
   "outputs": [],
   "source": [
    "def find_jobs():\n",
    "    print('Put some skills that you are not familiar with')\n",
    "    unfamiliar_skill = input('>')\n",
    "    print(f'Filtering out {unfamiliar_skill}')\n",
    "    url = 'https://www.timesjobs.com/candidate/job-search.html?searchType=personalizedSearch&from=submit&txtKeywords=python&txtLocation='\n",
    "    html = requests.get(url).text\n",
    "    soup = BeautifulSoup(html,'lxml')\n",
    "    jobs = soup.find_all('li',class_ = 'clearfix job-bx wht-shd-bx')\n",
    "\n",
    "    for job in jobs:\n",
    "        published_date = job.find('span',class_ = 'sim-posted').span.text\n",
    "        if 'few' in published_date:\n",
    "            company_name = job.find('h3',class_ = 'joblist-comp-name').text.replace(' ','').strip()\n",
    "            skills = job.find('span', class_ ='srp-skills').text.replace(' ','').strip()\n",
    "            more_info = job.header.h2.a['href']\n",
    "            if unfamiliar_skill not in skills:\n",
    "                print(f'Comapy Name: {company_name}')\n",
    "                print(f'Required Skills: {skills}')\n",
    "                print(f'More Info: {more_info}')\n",
    "                print('\\n')\n"
   ]
  },
  {
   "cell_type": "code",
   "execution_count": null,
   "metadata": {},
   "outputs": [],
   "source": [
    "if __name__ == '__main__':\n",
    "    while True:\n",
    "        find_jobs()\n",
    "        time_wait = 1\n",
    "        print(f'Waiting {time_wait} minutes...')\n",
    "        time.sleep(time_wait*60)"
   ]
  },
  {
   "cell_type": "markdown",
   "metadata": {},
   "source": [
    "## Storing the jobs paragraph in text files"
   ]
  },
  {
   "cell_type": "code",
   "execution_count": 6,
   "metadata": {},
   "outputs": [],
   "source": [
    "def find_jobs():\n",
    "    print('Put some skills that you are not familiar with')\n",
    "    unfamiliar_skill = input('>')\n",
    "    print(f'Filtering out {unfamiliar_skill}')\n",
    "    url = 'https://www.timesjobs.com/candidate/job-search.html?searchType=personalizedSearch&from=submit&txtKeywords=python&txtLocation='\n",
    "    html = requests.get(url).text\n",
    "    soup = BeautifulSoup(html,'lxml')\n",
    "    jobs = soup.find_all('li',class_ = 'clearfix job-bx wht-shd-bx')\n",
    "\n",
    "    for index,job in enumerate(jobs):\n",
    "        published_date = job.find('span',class_ = 'sim-posted').span.text\n",
    "        if 'few' in published_date:\n",
    "            company_name = job.find('h3',class_ = 'joblist-comp-name').text.replace(' ','').strip()\n",
    "            skills = job.find('span', class_ ='srp-skills').text.replace(' ','').strip()\n",
    "            more_info = job.header.h2.a['href']\n",
    "            if unfamiliar_skill not in skills:\n",
    "                with open(f'posts/{index}.text','w') as f:\n",
    "                    f.write(f'Comapy Name: {company_name}')\n",
    "                    f.write(f'Required Skills: {skills}')\n",
    "                    f.write(f'More Info: {more_info}')\n",
    "                    f.write('\\n')\n",
    "                print(f'File saved: {index}')\n"
   ]
  },
  {
   "cell_type": "code",
   "execution_count": null,
   "metadata": {},
   "outputs": [],
   "source": [
    "if __name__ == '__main__':\n",
    "    while True:\n",
    "        find_jobs()\n",
    "        time_wait = 1\n",
    "        print(f'Waiting {time_wait} minutes...')\n",
    "        time.sleep(time_wait*60)"
   ]
  }
 ],
 "metadata": {
  "kernelspec": {
   "display_name": "Python 3.8.8 ('base')",
   "language": "python",
   "name": "python3"
  },
  "language_info": {
   "codemirror_mode": {
    "name": "ipython",
    "version": 3
   },
   "file_extension": ".py",
   "mimetype": "text/x-python",
   "name": "python",
   "nbconvert_exporter": "python",
   "pygments_lexer": "ipython3",
   "version": "3.8.8"
  },
  "orig_nbformat": 4,
  "vscode": {
   "interpreter": {
    "hash": "dc07d24e2f18896857f0b2a651fe84ba40ce7b297e58d8804a308c8039f752a6"
   }
  }
 },
 "nbformat": 4,
 "nbformat_minor": 2
}
